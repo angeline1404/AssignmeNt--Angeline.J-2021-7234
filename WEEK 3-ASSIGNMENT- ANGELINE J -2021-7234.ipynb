{
 "cells": [
  {
   "cell_type": "markdown",
   "id": "5ba7ff08",
   "metadata": {},
   "source": [
    "## WEEK 3 - ASSIGNMENT-ANGELINE.J-2021-7234"
   ]
  },
  {
   "cell_type": "markdown",
   "id": "41cfb629",
   "metadata": {},
   "source": [
    "## QUESTION 1- ANSWER\n"
   ]
  },
  {
   "cell_type": "code",
   "execution_count": 2,
   "id": "9060e100",
   "metadata": {},
   "outputs": [],
   "source": [
    "def calculatesal():\n",
    "    salary=int(input(\"enter the salary\"))\n",
    "    if salary>10000:\n",
    "        print(\"salary is too large\")\n",
    "    elif salary<0:\n",
    "        print(\"salary is too small\")\n",
    "    else:\n",
    "        shifts=int(input(\"enter the no of shifts=\"))\n",
    "    if shifts<0:\n",
    "        print(\"shifts too small\")\n",
    "    else:\n",
    "        savings=(salary*0.60)+(salary*0.04*shifts)\n",
    "    return savings\n",
    "                "
   ]
  },
  {
   "cell_type": "code",
   "execution_count": null,
   "id": "2bb0d888",
   "metadata": {},
   "outputs": [],
   "source": []
  },
  {
   "cell_type": "markdown",
   "id": "2a2f6571",
   "metadata": {},
   "source": [
    "## QUESTION 2-ANSWER\n"
   ]
  },
  {
   "cell_type": "code",
   "execution_count": 2,
   "id": "ae853af4",
   "metadata": {},
   "outputs": [
    {
     "name": "stdout",
     "output_type": "stream",
     "text": [
      "no of square nos wanted6\n",
      "the squares of each nos:\n",
      "0\n",
      "1\n",
      "4\n",
      "9\n",
      "16\n",
      "25\n"
     ]
    }
   ],
   "source": [
    "n=int(input(\"no of square nos wanted\"))\n",
    "print(\"the squares of each nos:\")\n",
    "for i in range(n):\n",
    "  print(i**2)"
   ]
  },
  {
   "cell_type": "code",
   "execution_count": null,
   "id": "8b615e1b",
   "metadata": {},
   "outputs": [],
   "source": []
  },
  {
   "cell_type": "code",
   "execution_count": 3,
   "id": "6686bc7e",
   "metadata": {},
   "outputs": [
    {
     "name": "stdout",
     "output_type": "stream",
     "text": [
      "enter the square numbers:5\n",
      "squares of each given no\n",
      "0\n",
      "1\n",
      "4\n",
      "9\n",
      "16\n"
     ]
    }
   ],
   "source": [
    "n=int(input(\"enter the square numbers:\"))\n",
    "print(\"squares of each given no\")\n",
    "for i in range (n):\n",
    "      print(i**2)"
   ]
  },
  {
   "cell_type": "code",
   "execution_count": null,
   "id": "7e9b521b",
   "metadata": {},
   "outputs": [],
   "source": []
  },
  {
   "cell_type": "code",
   "execution_count": null,
   "id": "0b47916c",
   "metadata": {},
   "outputs": [],
   "source": []
  },
  {
   "cell_type": "markdown",
   "id": "0c9ffa45",
   "metadata": {},
   "source": [
    "## QUESTION 3-ANSWER"
   ]
  },
  {
   "cell_type": "code",
   "execution_count": 5,
   "id": "27ff3b65",
   "metadata": {},
   "outputs": [
    {
     "name": "stdout",
     "output_type": "stream",
     "text": [
      "enter the year 2000\n"
     ]
    },
    {
     "data": {
      "text/plain": [
       "True"
      ]
     },
     "execution_count": 5,
     "metadata": {},
     "output_type": "execute_result"
    }
   ],
   "source": [
    "def is_leap(year):\n",
    "    leap=False\n",
    "    if year %4 == 0:\n",
    "        if year % 100 != 0:\n",
    "            leap = True\n",
    "        elif year % 400 == 0:\n",
    "                leap = True\n",
    "                return leap\n",
    "year=int(input(\"enter the year\"))\n",
    "is_leap(year)"
   ]
  },
  {
   "cell_type": "code",
   "execution_count": null,
   "id": "bbdeec63",
   "metadata": {},
   "outputs": [],
   "source": []
  },
  {
   "cell_type": "code",
   "execution_count": null,
   "id": "70aea785",
   "metadata": {},
   "outputs": [],
   "source": []
  },
  {
   "cell_type": "code",
   "execution_count": null,
   "id": "8f8d3038",
   "metadata": {},
   "outputs": [],
   "source": []
  }
 ],
 "metadata": {
  "kernelspec": {
   "display_name": "Python 3 (ipykernel)",
   "language": "python",
   "name": "python3"
  },
  "language_info": {
   "codemirror_mode": {
    "name": "ipython",
    "version": 3
   },
   "file_extension": ".py",
   "mimetype": "text/x-python",
   "name": "python",
   "nbconvert_exporter": "python",
   "pygments_lexer": "ipython3",
   "version": "3.9.12"
  }
 },
 "nbformat": 4,
 "nbformat_minor": 5
}
